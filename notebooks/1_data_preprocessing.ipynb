{
 "cells": [
  {
   "cell_type": "markdown",
   "id": "b7dc0648-3c20-41a0-8168-002fd5372c9f",
   "metadata": {
    "pycharm": {
     "name": "#%% md\n"
    }
   },
   "source": [
    "# Data preprocessing\n",
    "\n",
    "Notebook to preprocess and clean the dataset"
   ]
  },
  {
   "cell_type": "code",
   "execution_count": 1,
   "id": "3b91ffee-9c83-4287-8007-30e3a9b801ae",
   "metadata": {
    "pycharm": {
     "name": "#%%\n"
    }
   },
   "outputs": [],
   "source": [
    "import pandas as pd\n",
    "import matplotlib.pyplot as plt\n",
    "import seaborn as sns\n",
    "import numpy as np\n",
    "import folium\n",
    "from IPython.display import display\n",
    "from scipy.stats import chi2_contingency\n",
    "from scipy.stats import skew\n"
   ]
  },
  {
   "cell_type": "code",
   "execution_count": 2,
   "id": "eaa24fdc-0385-4989-81e7-0a18bc6f2062",
   "metadata": {
    "pycharm": {
     "name": "#%%\n"
    }
   },
   "outputs": [],
   "source": [
    "# notebook settings\n",
    "%matplotlib inline\n",
    "pd.options.display.max_columns = None\n",
    "sns.set_theme()"
   ]
  },
  {
   "cell_type": "code",
   "execution_count": 3,
   "id": "18df067e-f9dc-419a-aa99-9128476f778d",
   "metadata": {
    "pycharm": {
     "name": "#%%\n"
    }
   },
   "outputs": [
    {
     "name": "stderr",
     "output_type": "stream",
     "text": [
      "/tmp/ipykernel_5570/875887398.py:2: UserWarning: Parsing dates in DD/MM/YYYY format when dayfirst=False (the default) was specified. This may lead to inconsistently parsed dates! Specify a format to ensure consistent parsing.\n",
      "  water_pump_data = pd.read_csv('../data/raw/water_pump_dataset.csv', sep=';', parse_dates=['date_recorded'])\n"
     ]
    },
    {
     "data": {
      "text/html": [
       "<div>\n",
       "<style scoped>\n",
       "    .dataframe tbody tr th:only-of-type {\n",
       "        vertical-align: middle;\n",
       "    }\n",
       "\n",
       "    .dataframe tbody tr th {\n",
       "        vertical-align: top;\n",
       "    }\n",
       "\n",
       "    .dataframe thead th {\n",
       "        text-align: right;\n",
       "    }\n",
       "</style>\n",
       "<table border=\"1\" class=\"dataframe\">\n",
       "  <thead>\n",
       "    <tr style=\"text-align: right;\">\n",
       "      <th></th>\n",
       "      <th>id</th>\n",
       "      <th>amount_tsh</th>\n",
       "      <th>date_recorded</th>\n",
       "      <th>funder</th>\n",
       "      <th>gps_height</th>\n",
       "      <th>installer</th>\n",
       "      <th>longitude</th>\n",
       "      <th>latitude</th>\n",
       "      <th>wpt_name</th>\n",
       "      <th>num_private</th>\n",
       "      <th>basin</th>\n",
       "      <th>subvillage</th>\n",
       "      <th>region</th>\n",
       "      <th>region_code</th>\n",
       "      <th>district_code</th>\n",
       "      <th>lga</th>\n",
       "      <th>ward</th>\n",
       "      <th>population</th>\n",
       "      <th>public_meeting</th>\n",
       "      <th>recorded_by</th>\n",
       "      <th>scheme_management</th>\n",
       "      <th>scheme_name</th>\n",
       "      <th>permit</th>\n",
       "      <th>construction_year</th>\n",
       "      <th>extraction_type</th>\n",
       "      <th>extraction_type_group</th>\n",
       "      <th>extraction_type_class</th>\n",
       "      <th>management</th>\n",
       "      <th>management_group</th>\n",
       "      <th>payment</th>\n",
       "      <th>payment_type</th>\n",
       "      <th>water_quality</th>\n",
       "      <th>quality_group</th>\n",
       "      <th>quantity</th>\n",
       "      <th>quantity_group</th>\n",
       "      <th>source</th>\n",
       "      <th>source_type</th>\n",
       "      <th>source_class</th>\n",
       "      <th>waterpoint_type</th>\n",
       "      <th>waterpoint_type_group</th>\n",
       "      <th>status_group</th>\n",
       "    </tr>\n",
       "  </thead>\n",
       "  <tbody>\n",
       "    <tr>\n",
       "      <th>0</th>\n",
       "      <td>69572</td>\n",
       "      <td>6000.0</td>\n",
       "      <td>2011-03-14</td>\n",
       "      <td>Roman</td>\n",
       "      <td>1390</td>\n",
       "      <td>Roman</td>\n",
       "      <td>3.493.809.275</td>\n",
       "      <td>-985.632.177</td>\n",
       "      <td>none</td>\n",
       "      <td>0</td>\n",
       "      <td>Lake Nyasa</td>\n",
       "      <td>Mnyusi B</td>\n",
       "      <td>Iringa</td>\n",
       "      <td>11</td>\n",
       "      <td>5</td>\n",
       "      <td>Ludewa</td>\n",
       "      <td>Mundindi</td>\n",
       "      <td>109</td>\n",
       "      <td>True</td>\n",
       "      <td>GeoData Consultants Ltd</td>\n",
       "      <td>VWC</td>\n",
       "      <td>Roman</td>\n",
       "      <td>False</td>\n",
       "      <td>1999</td>\n",
       "      <td>gravity</td>\n",
       "      <td>gravity</td>\n",
       "      <td>gravity</td>\n",
       "      <td>vwc</td>\n",
       "      <td>user-group</td>\n",
       "      <td>pay annually</td>\n",
       "      <td>annually</td>\n",
       "      <td>soft</td>\n",
       "      <td>good</td>\n",
       "      <td>enough</td>\n",
       "      <td>enough</td>\n",
       "      <td>spring</td>\n",
       "      <td>spring</td>\n",
       "      <td>groundwater</td>\n",
       "      <td>communal standpipe</td>\n",
       "      <td>communal standpipe</td>\n",
       "      <td>functional</td>\n",
       "    </tr>\n",
       "    <tr>\n",
       "      <th>1</th>\n",
       "      <td>8776</td>\n",
       "      <td>0.0</td>\n",
       "      <td>2013-06-03</td>\n",
       "      <td>Grumeti</td>\n",
       "      <td>1399</td>\n",
       "      <td>GRUMETI</td>\n",
       "      <td>346.987.661</td>\n",
       "      <td>-214.746.569</td>\n",
       "      <td>Zahanati</td>\n",
       "      <td>0</td>\n",
       "      <td>Lake Victoria</td>\n",
       "      <td>Nyamara</td>\n",
       "      <td>Mara</td>\n",
       "      <td>20</td>\n",
       "      <td>2</td>\n",
       "      <td>Serengeti</td>\n",
       "      <td>Natta</td>\n",
       "      <td>280</td>\n",
       "      <td>NaN</td>\n",
       "      <td>GeoData Consultants Ltd</td>\n",
       "      <td>Other</td>\n",
       "      <td>NaN</td>\n",
       "      <td>True</td>\n",
       "      <td>2010</td>\n",
       "      <td>gravity</td>\n",
       "      <td>gravity</td>\n",
       "      <td>gravity</td>\n",
       "      <td>wug</td>\n",
       "      <td>user-group</td>\n",
       "      <td>never pay</td>\n",
       "      <td>never pay</td>\n",
       "      <td>soft</td>\n",
       "      <td>good</td>\n",
       "      <td>insufficient</td>\n",
       "      <td>insufficient</td>\n",
       "      <td>rainwater harvesting</td>\n",
       "      <td>rainwater harvesting</td>\n",
       "      <td>surface</td>\n",
       "      <td>communal standpipe</td>\n",
       "      <td>communal standpipe</td>\n",
       "      <td>functional</td>\n",
       "    </tr>\n",
       "    <tr>\n",
       "      <th>2</th>\n",
       "      <td>34310</td>\n",
       "      <td>25.0</td>\n",
       "      <td>2013-02-25</td>\n",
       "      <td>Lottery Club</td>\n",
       "      <td>686</td>\n",
       "      <td>World vision</td>\n",
       "      <td>3.746.066.446</td>\n",
       "      <td>-382.132.853</td>\n",
       "      <td>Kwa Mahundi</td>\n",
       "      <td>0</td>\n",
       "      <td>Pangani</td>\n",
       "      <td>Majengo</td>\n",
       "      <td>Manyara</td>\n",
       "      <td>21</td>\n",
       "      <td>4</td>\n",
       "      <td>Simanjiro</td>\n",
       "      <td>Ngorika</td>\n",
       "      <td>250</td>\n",
       "      <td>True</td>\n",
       "      <td>GeoData Consultants Ltd</td>\n",
       "      <td>VWC</td>\n",
       "      <td>Nyumba ya mungu pipe scheme</td>\n",
       "      <td>True</td>\n",
       "      <td>2009</td>\n",
       "      <td>gravity</td>\n",
       "      <td>gravity</td>\n",
       "      <td>gravity</td>\n",
       "      <td>vwc</td>\n",
       "      <td>user-group</td>\n",
       "      <td>pay per bucket</td>\n",
       "      <td>per bucket</td>\n",
       "      <td>soft</td>\n",
       "      <td>good</td>\n",
       "      <td>enough</td>\n",
       "      <td>enough</td>\n",
       "      <td>dam</td>\n",
       "      <td>dam</td>\n",
       "      <td>surface</td>\n",
       "      <td>communal standpipe multiple</td>\n",
       "      <td>communal standpipe</td>\n",
       "      <td>functional</td>\n",
       "    </tr>\n",
       "    <tr>\n",
       "      <th>3</th>\n",
       "      <td>67743</td>\n",
       "      <td>0.0</td>\n",
       "      <td>2013-01-28</td>\n",
       "      <td>Unicef</td>\n",
       "      <td>263</td>\n",
       "      <td>UNICEF</td>\n",
       "      <td>3.848.616.088</td>\n",
       "      <td>-1.115.529.772</td>\n",
       "      <td>Zahanati Ya Nanyumbu</td>\n",
       "      <td>0</td>\n",
       "      <td>Ruvuma / Southern Coast</td>\n",
       "      <td>Mahakamani</td>\n",
       "      <td>Mtwara</td>\n",
       "      <td>90</td>\n",
       "      <td>63</td>\n",
       "      <td>Nanyumbu</td>\n",
       "      <td>Nanyumbu</td>\n",
       "      <td>58</td>\n",
       "      <td>True</td>\n",
       "      <td>GeoData Consultants Ltd</td>\n",
       "      <td>VWC</td>\n",
       "      <td>NaN</td>\n",
       "      <td>True</td>\n",
       "      <td>1986</td>\n",
       "      <td>submersible</td>\n",
       "      <td>submersible</td>\n",
       "      <td>submersible</td>\n",
       "      <td>vwc</td>\n",
       "      <td>user-group</td>\n",
       "      <td>never pay</td>\n",
       "      <td>never pay</td>\n",
       "      <td>soft</td>\n",
       "      <td>good</td>\n",
       "      <td>dry</td>\n",
       "      <td>dry</td>\n",
       "      <td>machine dbh</td>\n",
       "      <td>borehole</td>\n",
       "      <td>groundwater</td>\n",
       "      <td>communal standpipe multiple</td>\n",
       "      <td>communal standpipe</td>\n",
       "      <td>non functional</td>\n",
       "    </tr>\n",
       "    <tr>\n",
       "      <th>4</th>\n",
       "      <td>19728</td>\n",
       "      <td>0.0</td>\n",
       "      <td>2011-07-13</td>\n",
       "      <td>Action In A</td>\n",
       "      <td>0</td>\n",
       "      <td>Artisan</td>\n",
       "      <td>3.113.084.671</td>\n",
       "      <td>-182.535.885</td>\n",
       "      <td>Shuleni</td>\n",
       "      <td>0</td>\n",
       "      <td>Lake Victoria</td>\n",
       "      <td>Kyanyamisa</td>\n",
       "      <td>Kagera</td>\n",
       "      <td>18</td>\n",
       "      <td>1</td>\n",
       "      <td>Karagwe</td>\n",
       "      <td>Nyakasimbi</td>\n",
       "      <td>0</td>\n",
       "      <td>True</td>\n",
       "      <td>GeoData Consultants Ltd</td>\n",
       "      <td>NaN</td>\n",
       "      <td>NaN</td>\n",
       "      <td>True</td>\n",
       "      <td>0</td>\n",
       "      <td>gravity</td>\n",
       "      <td>gravity</td>\n",
       "      <td>gravity</td>\n",
       "      <td>other</td>\n",
       "      <td>other</td>\n",
       "      <td>never pay</td>\n",
       "      <td>never pay</td>\n",
       "      <td>soft</td>\n",
       "      <td>good</td>\n",
       "      <td>seasonal</td>\n",
       "      <td>seasonal</td>\n",
       "      <td>rainwater harvesting</td>\n",
       "      <td>rainwater harvesting</td>\n",
       "      <td>surface</td>\n",
       "      <td>communal standpipe</td>\n",
       "      <td>communal standpipe</td>\n",
       "      <td>functional</td>\n",
       "    </tr>\n",
       "  </tbody>\n",
       "</table>\n",
       "</div>"
      ],
      "text/plain": [
       "      id  amount_tsh date_recorded        funder  gps_height     installer  \\\n",
       "0  69572      6000.0    2011-03-14         Roman        1390         Roman   \n",
       "1   8776         0.0    2013-06-03       Grumeti        1399       GRUMETI   \n",
       "2  34310        25.0    2013-02-25  Lottery Club         686  World vision   \n",
       "3  67743         0.0    2013-01-28        Unicef         263        UNICEF   \n",
       "4  19728         0.0    2011-07-13   Action In A           0       Artisan   \n",
       "\n",
       "       longitude        latitude              wpt_name  num_private  \\\n",
       "0  3.493.809.275    -985.632.177                  none            0   \n",
       "1    346.987.661    -214.746.569              Zahanati            0   \n",
       "2  3.746.066.446    -382.132.853           Kwa Mahundi            0   \n",
       "3  3.848.616.088  -1.115.529.772  Zahanati Ya Nanyumbu            0   \n",
       "4  3.113.084.671    -182.535.885               Shuleni            0   \n",
       "\n",
       "                     basin  subvillage   region  region_code  district_code  \\\n",
       "0               Lake Nyasa    Mnyusi B   Iringa           11              5   \n",
       "1            Lake Victoria     Nyamara     Mara           20              2   \n",
       "2                  Pangani     Majengo  Manyara           21              4   \n",
       "3  Ruvuma / Southern Coast  Mahakamani   Mtwara           90             63   \n",
       "4            Lake Victoria  Kyanyamisa   Kagera           18              1   \n",
       "\n",
       "         lga        ward  population public_meeting              recorded_by  \\\n",
       "0     Ludewa    Mundindi         109           True  GeoData Consultants Ltd   \n",
       "1  Serengeti       Natta         280            NaN  GeoData Consultants Ltd   \n",
       "2  Simanjiro     Ngorika         250           True  GeoData Consultants Ltd   \n",
       "3   Nanyumbu    Nanyumbu          58           True  GeoData Consultants Ltd   \n",
       "4    Karagwe  Nyakasimbi           0           True  GeoData Consultants Ltd   \n",
       "\n",
       "  scheme_management                  scheme_name permit  construction_year  \\\n",
       "0               VWC                        Roman  False               1999   \n",
       "1             Other                          NaN   True               2010   \n",
       "2               VWC  Nyumba ya mungu pipe scheme   True               2009   \n",
       "3               VWC                          NaN   True               1986   \n",
       "4               NaN                          NaN   True                  0   \n",
       "\n",
       "  extraction_type extraction_type_group extraction_type_class management  \\\n",
       "0         gravity               gravity               gravity        vwc   \n",
       "1         gravity               gravity               gravity        wug   \n",
       "2         gravity               gravity               gravity        vwc   \n",
       "3     submersible           submersible           submersible        vwc   \n",
       "4         gravity               gravity               gravity      other   \n",
       "\n",
       "  management_group         payment payment_type water_quality quality_group  \\\n",
       "0       user-group    pay annually     annually          soft          good   \n",
       "1       user-group       never pay    never pay          soft          good   \n",
       "2       user-group  pay per bucket   per bucket          soft          good   \n",
       "3       user-group       never pay    never pay          soft          good   \n",
       "4            other       never pay    never pay          soft          good   \n",
       "\n",
       "       quantity quantity_group                source           source_type  \\\n",
       "0        enough         enough                spring                spring   \n",
       "1  insufficient   insufficient  rainwater harvesting  rainwater harvesting   \n",
       "2        enough         enough                   dam                   dam   \n",
       "3           dry            dry           machine dbh              borehole   \n",
       "4      seasonal       seasonal  rainwater harvesting  rainwater harvesting   \n",
       "\n",
       "  source_class              waterpoint_type waterpoint_type_group  \\\n",
       "0  groundwater           communal standpipe    communal standpipe   \n",
       "1      surface           communal standpipe    communal standpipe   \n",
       "2      surface  communal standpipe multiple    communal standpipe   \n",
       "3  groundwater  communal standpipe multiple    communal standpipe   \n",
       "4      surface           communal standpipe    communal standpipe   \n",
       "\n",
       "     status_group  \n",
       "0      functional  \n",
       "1      functional  \n",
       "2      functional  \n",
       "3  non functional  \n",
       "4      functional  "
      ]
     },
     "metadata": {},
     "output_type": "display_data"
    },
    {
     "name": "stdout",
     "output_type": "stream",
     "text": [
      "Index(['id', 'amount_tsh', 'date_recorded', 'funder', 'gps_height',\n",
      "       'installer', 'longitude', 'latitude', 'wpt_name', 'num_private',\n",
      "       'basin', 'subvillage', 'region', 'region_code', 'district_code', 'lga',\n",
      "       'ward', 'population', 'public_meeting', 'recorded_by',\n",
      "       'scheme_management', 'scheme_name', 'permit', 'construction_year',\n",
      "       'extraction_type', 'extraction_type_group', 'extraction_type_class',\n",
      "       'management', 'management_group', 'payment', 'payment_type',\n",
      "       'water_quality', 'quality_group', 'quantity', 'quantity_group',\n",
      "       'source', 'source_type', 'source_class', 'waterpoint_type',\n",
      "       'waterpoint_type_group', 'status_group'],\n",
      "      dtype='object')\n",
      "(59400, 41)\n"
     ]
    }
   ],
   "source": [
    "# load dataset\n",
    "water_pump_data = pd.read_csv('../data/raw/water_pump_dataset.csv', sep=';', parse_dates=['date_recorded'])\n",
    "display(water_pump_data.head())\n",
    "print(water_pump_data.columns)\n",
    "print(water_pump_data.shape)"
   ]
  },
  {
   "cell_type": "markdown",
   "id": "0f802c7e-bc23-4de2-9cdf-46e5a1a035c4",
   "metadata": {
    "pycharm": {
     "name": "#%% md\n"
    }
   },
   "source": [
    "# 1. Solve data corruption in lat lon columns\n",
    "\n",
    "\n",
    "The latitude and longitude columns looks corrupted (unwanted changes during storage or processing). I found the [original dataset](https://www.drivendata.org/competitions/7/pump-it-up-data-mining-the-water-table/data/) to retrieve the correct lat/lon columns."
   ]
  },
  {
   "cell_type": "code",
   "execution_count": 4,
   "id": "ae1134d7-ee60-4098-aa8e-9e9c750ce6d9",
   "metadata": {
    "pycharm": {
     "name": "#%%\n"
    }
   },
   "outputs": [
    {
     "data": {
      "text/html": [
       "<div>\n",
       "<style scoped>\n",
       "    .dataframe tbody tr th:only-of-type {\n",
       "        vertical-align: middle;\n",
       "    }\n",
       "\n",
       "    .dataframe tbody tr th {\n",
       "        vertical-align: top;\n",
       "    }\n",
       "\n",
       "    .dataframe thead th {\n",
       "        text-align: right;\n",
       "    }\n",
       "</style>\n",
       "<table border=\"1\" class=\"dataframe\">\n",
       "  <thead>\n",
       "    <tr style=\"text-align: right;\">\n",
       "      <th></th>\n",
       "      <th>id</th>\n",
       "      <th>amount_tsh</th>\n",
       "      <th>date_recorded</th>\n",
       "      <th>funder</th>\n",
       "      <th>gps_height</th>\n",
       "      <th>installer</th>\n",
       "      <th>longitude</th>\n",
       "      <th>latitude</th>\n",
       "      <th>wpt_name</th>\n",
       "      <th>num_private</th>\n",
       "      <th>basin</th>\n",
       "      <th>subvillage</th>\n",
       "      <th>region</th>\n",
       "      <th>region_code</th>\n",
       "      <th>district_code</th>\n",
       "      <th>lga</th>\n",
       "      <th>ward</th>\n",
       "      <th>population</th>\n",
       "      <th>public_meeting</th>\n",
       "      <th>recorded_by</th>\n",
       "      <th>scheme_management</th>\n",
       "      <th>scheme_name</th>\n",
       "      <th>permit</th>\n",
       "      <th>construction_year</th>\n",
       "      <th>extraction_type</th>\n",
       "      <th>extraction_type_group</th>\n",
       "      <th>extraction_type_class</th>\n",
       "      <th>management</th>\n",
       "      <th>management_group</th>\n",
       "      <th>payment</th>\n",
       "      <th>payment_type</th>\n",
       "      <th>water_quality</th>\n",
       "      <th>quality_group</th>\n",
       "      <th>quantity</th>\n",
       "      <th>quantity_group</th>\n",
       "      <th>source</th>\n",
       "      <th>source_type</th>\n",
       "      <th>source_class</th>\n",
       "      <th>waterpoint_type</th>\n",
       "      <th>waterpoint_type_group</th>\n",
       "      <th>status_group</th>\n",
       "    </tr>\n",
       "  </thead>\n",
       "  <tbody>\n",
       "    <tr>\n",
       "      <th>0</th>\n",
       "      <td>69572</td>\n",
       "      <td>6000.0</td>\n",
       "      <td>2011-03-14</td>\n",
       "      <td>Roman</td>\n",
       "      <td>1390</td>\n",
       "      <td>Roman</td>\n",
       "      <td>34.938093</td>\n",
       "      <td>-9.856322</td>\n",
       "      <td>none</td>\n",
       "      <td>0</td>\n",
       "      <td>Lake Nyasa</td>\n",
       "      <td>Mnyusi B</td>\n",
       "      <td>Iringa</td>\n",
       "      <td>11</td>\n",
       "      <td>5</td>\n",
       "      <td>Ludewa</td>\n",
       "      <td>Mundindi</td>\n",
       "      <td>109</td>\n",
       "      <td>True</td>\n",
       "      <td>GeoData Consultants Ltd</td>\n",
       "      <td>VWC</td>\n",
       "      <td>Roman</td>\n",
       "      <td>False</td>\n",
       "      <td>1999</td>\n",
       "      <td>gravity</td>\n",
       "      <td>gravity</td>\n",
       "      <td>gravity</td>\n",
       "      <td>vwc</td>\n",
       "      <td>user-group</td>\n",
       "      <td>pay annually</td>\n",
       "      <td>annually</td>\n",
       "      <td>soft</td>\n",
       "      <td>good</td>\n",
       "      <td>enough</td>\n",
       "      <td>enough</td>\n",
       "      <td>spring</td>\n",
       "      <td>spring</td>\n",
       "      <td>groundwater</td>\n",
       "      <td>communal standpipe</td>\n",
       "      <td>communal standpipe</td>\n",
       "      <td>functional</td>\n",
       "    </tr>\n",
       "    <tr>\n",
       "      <th>1</th>\n",
       "      <td>8776</td>\n",
       "      <td>0.0</td>\n",
       "      <td>2013-06-03</td>\n",
       "      <td>Grumeti</td>\n",
       "      <td>1399</td>\n",
       "      <td>GRUMETI</td>\n",
       "      <td>34.698766</td>\n",
       "      <td>-2.147466</td>\n",
       "      <td>Zahanati</td>\n",
       "      <td>0</td>\n",
       "      <td>Lake Victoria</td>\n",
       "      <td>Nyamara</td>\n",
       "      <td>Mara</td>\n",
       "      <td>20</td>\n",
       "      <td>2</td>\n",
       "      <td>Serengeti</td>\n",
       "      <td>Natta</td>\n",
       "      <td>280</td>\n",
       "      <td>NaN</td>\n",
       "      <td>GeoData Consultants Ltd</td>\n",
       "      <td>Other</td>\n",
       "      <td>NaN</td>\n",
       "      <td>True</td>\n",
       "      <td>2010</td>\n",
       "      <td>gravity</td>\n",
       "      <td>gravity</td>\n",
       "      <td>gravity</td>\n",
       "      <td>wug</td>\n",
       "      <td>user-group</td>\n",
       "      <td>never pay</td>\n",
       "      <td>never pay</td>\n",
       "      <td>soft</td>\n",
       "      <td>good</td>\n",
       "      <td>insufficient</td>\n",
       "      <td>insufficient</td>\n",
       "      <td>rainwater harvesting</td>\n",
       "      <td>rainwater harvesting</td>\n",
       "      <td>surface</td>\n",
       "      <td>communal standpipe</td>\n",
       "      <td>communal standpipe</td>\n",
       "      <td>functional</td>\n",
       "    </tr>\n",
       "    <tr>\n",
       "      <th>2</th>\n",
       "      <td>34310</td>\n",
       "      <td>25.0</td>\n",
       "      <td>2013-02-25</td>\n",
       "      <td>Lottery Club</td>\n",
       "      <td>686</td>\n",
       "      <td>World vision</td>\n",
       "      <td>37.460664</td>\n",
       "      <td>-3.821329</td>\n",
       "      <td>Kwa Mahundi</td>\n",
       "      <td>0</td>\n",
       "      <td>Pangani</td>\n",
       "      <td>Majengo</td>\n",
       "      <td>Manyara</td>\n",
       "      <td>21</td>\n",
       "      <td>4</td>\n",
       "      <td>Simanjiro</td>\n",
       "      <td>Ngorika</td>\n",
       "      <td>250</td>\n",
       "      <td>True</td>\n",
       "      <td>GeoData Consultants Ltd</td>\n",
       "      <td>VWC</td>\n",
       "      <td>Nyumba ya mungu pipe scheme</td>\n",
       "      <td>True</td>\n",
       "      <td>2009</td>\n",
       "      <td>gravity</td>\n",
       "      <td>gravity</td>\n",
       "      <td>gravity</td>\n",
       "      <td>vwc</td>\n",
       "      <td>user-group</td>\n",
       "      <td>pay per bucket</td>\n",
       "      <td>per bucket</td>\n",
       "      <td>soft</td>\n",
       "      <td>good</td>\n",
       "      <td>enough</td>\n",
       "      <td>enough</td>\n",
       "      <td>dam</td>\n",
       "      <td>dam</td>\n",
       "      <td>surface</td>\n",
       "      <td>communal standpipe multiple</td>\n",
       "      <td>communal standpipe</td>\n",
       "      <td>functional</td>\n",
       "    </tr>\n",
       "    <tr>\n",
       "      <th>3</th>\n",
       "      <td>67743</td>\n",
       "      <td>0.0</td>\n",
       "      <td>2013-01-28</td>\n",
       "      <td>Unicef</td>\n",
       "      <td>263</td>\n",
       "      <td>UNICEF</td>\n",
       "      <td>38.486161</td>\n",
       "      <td>-11.155298</td>\n",
       "      <td>Zahanati Ya Nanyumbu</td>\n",
       "      <td>0</td>\n",
       "      <td>Ruvuma / Southern Coast</td>\n",
       "      <td>Mahakamani</td>\n",
       "      <td>Mtwara</td>\n",
       "      <td>90</td>\n",
       "      <td>63</td>\n",
       "      <td>Nanyumbu</td>\n",
       "      <td>Nanyumbu</td>\n",
       "      <td>58</td>\n",
       "      <td>True</td>\n",
       "      <td>GeoData Consultants Ltd</td>\n",
       "      <td>VWC</td>\n",
       "      <td>NaN</td>\n",
       "      <td>True</td>\n",
       "      <td>1986</td>\n",
       "      <td>submersible</td>\n",
       "      <td>submersible</td>\n",
       "      <td>submersible</td>\n",
       "      <td>vwc</td>\n",
       "      <td>user-group</td>\n",
       "      <td>never pay</td>\n",
       "      <td>never pay</td>\n",
       "      <td>soft</td>\n",
       "      <td>good</td>\n",
       "      <td>dry</td>\n",
       "      <td>dry</td>\n",
       "      <td>machine dbh</td>\n",
       "      <td>borehole</td>\n",
       "      <td>groundwater</td>\n",
       "      <td>communal standpipe multiple</td>\n",
       "      <td>communal standpipe</td>\n",
       "      <td>non functional</td>\n",
       "    </tr>\n",
       "    <tr>\n",
       "      <th>4</th>\n",
       "      <td>19728</td>\n",
       "      <td>0.0</td>\n",
       "      <td>2011-07-13</td>\n",
       "      <td>Action In A</td>\n",
       "      <td>0</td>\n",
       "      <td>Artisan</td>\n",
       "      <td>31.130847</td>\n",
       "      <td>-1.825359</td>\n",
       "      <td>Shuleni</td>\n",
       "      <td>0</td>\n",
       "      <td>Lake Victoria</td>\n",
       "      <td>Kyanyamisa</td>\n",
       "      <td>Kagera</td>\n",
       "      <td>18</td>\n",
       "      <td>1</td>\n",
       "      <td>Karagwe</td>\n",
       "      <td>Nyakasimbi</td>\n",
       "      <td>0</td>\n",
       "      <td>True</td>\n",
       "      <td>GeoData Consultants Ltd</td>\n",
       "      <td>NaN</td>\n",
       "      <td>NaN</td>\n",
       "      <td>True</td>\n",
       "      <td>0</td>\n",
       "      <td>gravity</td>\n",
       "      <td>gravity</td>\n",
       "      <td>gravity</td>\n",
       "      <td>other</td>\n",
       "      <td>other</td>\n",
       "      <td>never pay</td>\n",
       "      <td>never pay</td>\n",
       "      <td>soft</td>\n",
       "      <td>good</td>\n",
       "      <td>seasonal</td>\n",
       "      <td>seasonal</td>\n",
       "      <td>rainwater harvesting</td>\n",
       "      <td>rainwater harvesting</td>\n",
       "      <td>surface</td>\n",
       "      <td>communal standpipe</td>\n",
       "      <td>communal standpipe</td>\n",
       "      <td>functional</td>\n",
       "    </tr>\n",
       "  </tbody>\n",
       "</table>\n",
       "</div>"
      ],
      "text/plain": [
       "      id  amount_tsh date_recorded        funder  gps_height     installer  \\\n",
       "0  69572      6000.0    2011-03-14         Roman        1390         Roman   \n",
       "1   8776         0.0    2013-06-03       Grumeti        1399       GRUMETI   \n",
       "2  34310        25.0    2013-02-25  Lottery Club         686  World vision   \n",
       "3  67743         0.0    2013-01-28        Unicef         263        UNICEF   \n",
       "4  19728         0.0    2011-07-13   Action In A           0       Artisan   \n",
       "\n",
       "   longitude   latitude              wpt_name  num_private  \\\n",
       "0  34.938093  -9.856322                  none            0   \n",
       "1  34.698766  -2.147466              Zahanati            0   \n",
       "2  37.460664  -3.821329           Kwa Mahundi            0   \n",
       "3  38.486161 -11.155298  Zahanati Ya Nanyumbu            0   \n",
       "4  31.130847  -1.825359               Shuleni            0   \n",
       "\n",
       "                     basin  subvillage   region  region_code  district_code  \\\n",
       "0               Lake Nyasa    Mnyusi B   Iringa           11              5   \n",
       "1            Lake Victoria     Nyamara     Mara           20              2   \n",
       "2                  Pangani     Majengo  Manyara           21              4   \n",
       "3  Ruvuma / Southern Coast  Mahakamani   Mtwara           90             63   \n",
       "4            Lake Victoria  Kyanyamisa   Kagera           18              1   \n",
       "\n",
       "         lga        ward  population public_meeting              recorded_by  \\\n",
       "0     Ludewa    Mundindi         109           True  GeoData Consultants Ltd   \n",
       "1  Serengeti       Natta         280            NaN  GeoData Consultants Ltd   \n",
       "2  Simanjiro     Ngorika         250           True  GeoData Consultants Ltd   \n",
       "3   Nanyumbu    Nanyumbu          58           True  GeoData Consultants Ltd   \n",
       "4    Karagwe  Nyakasimbi           0           True  GeoData Consultants Ltd   \n",
       "\n",
       "  scheme_management                  scheme_name permit  construction_year  \\\n",
       "0               VWC                        Roman  False               1999   \n",
       "1             Other                          NaN   True               2010   \n",
       "2               VWC  Nyumba ya mungu pipe scheme   True               2009   \n",
       "3               VWC                          NaN   True               1986   \n",
       "4               NaN                          NaN   True                  0   \n",
       "\n",
       "  extraction_type extraction_type_group extraction_type_class management  \\\n",
       "0         gravity               gravity               gravity        vwc   \n",
       "1         gravity               gravity               gravity        wug   \n",
       "2         gravity               gravity               gravity        vwc   \n",
       "3     submersible           submersible           submersible        vwc   \n",
       "4         gravity               gravity               gravity      other   \n",
       "\n",
       "  management_group         payment payment_type water_quality quality_group  \\\n",
       "0       user-group    pay annually     annually          soft          good   \n",
       "1       user-group       never pay    never pay          soft          good   \n",
       "2       user-group  pay per bucket   per bucket          soft          good   \n",
       "3       user-group       never pay    never pay          soft          good   \n",
       "4            other       never pay    never pay          soft          good   \n",
       "\n",
       "       quantity quantity_group                source           source_type  \\\n",
       "0        enough         enough                spring                spring   \n",
       "1  insufficient   insufficient  rainwater harvesting  rainwater harvesting   \n",
       "2        enough         enough                   dam                   dam   \n",
       "3           dry            dry           machine dbh              borehole   \n",
       "4      seasonal       seasonal  rainwater harvesting  rainwater harvesting   \n",
       "\n",
       "  source_class              waterpoint_type waterpoint_type_group  \\\n",
       "0  groundwater           communal standpipe    communal standpipe   \n",
       "1      surface           communal standpipe    communal standpipe   \n",
       "2      surface  communal standpipe multiple    communal standpipe   \n",
       "3  groundwater  communal standpipe multiple    communal standpipe   \n",
       "4      surface           communal standpipe    communal standpipe   \n",
       "\n",
       "     status_group  \n",
       "0      functional  \n",
       "1      functional  \n",
       "2      functional  \n",
       "3  non functional  \n",
       "4      functional  "
      ]
     },
     "metadata": {},
     "output_type": "display_data"
    },
    {
     "name": "stdout",
     "output_type": "stream",
     "text": [
      "set()\n"
     ]
    }
   ],
   "source": [
    "# original lat lon values\n",
    "water_pump_data_original = pd.read_csv('../data/external/water_pump_original.csv', parse_dates=['date_recorded'])\n",
    "\n",
    "water_pump_data['longitude']=water_pump_data_original['longitude']\n",
    "water_pump_data['latitude']=water_pump_data_original['latitude']\n",
    "\n",
    "# check\n",
    "display(water_pump_data.head())\n",
    "\n",
    "# check whether rest of the dataset is the same\n",
    "# get column names for each dataframe\n",
    "cols1 = set(water_pump_data_original.columns)\n",
    "cols2 = set(water_pump_data.iloc[:, :-1].columns)\n",
    "\n",
    "# find columns that are different\n",
    "diff_cols = cols1.symmetric_difference(cols2)\n",
    "print(diff_cols)\n",
    "\n"
   ]
  },
  {
   "cell_type": "markdown",
   "id": "c1aa8bad-d35c-41b5-a872-f09780a8305b",
   "metadata": {
    "pycharm": {
     "name": "#%% md\n"
    }
   },
   "source": [
    "# 2. Missing values\n",
    "\n",
    "\n",
    "First I get an overview of missing data and type. Then I will deal with the missing values according to their dtype (continuous or categorical)."
   ]
  },
  {
   "cell_type": "code",
   "execution_count": 5,
   "id": "4caad200-afa0-4b93-8e2d-40fb655652a1",
   "metadata": {
    "pycharm": {
     "name": "#%%\n"
    }
   },
   "outputs": [],
   "source": [
    "def count_missing_values(dataframe):\n",
    "    \n",
    "    # create a dataframe mask indicating missing values\n",
    "    mask = water_pump_data.isnull()\n",
    "\n",
    "    # count the number of missing values in each column\n",
    "    missing = mask.sum()\n",
    "\n",
    "    # get the data types of the columns\n",
    "    dtypes = dataframe.dtypes\n",
    "\n",
    "    # combine missing values and data types into a single dataframe\n",
    "    missing_result = pd.DataFrame({'missing': missing, 'dtype': dtypes})\n",
    "    \n",
    "    display(missing_result)"
   ]
  },
  {
   "cell_type": "code",
   "execution_count": 6,
   "id": "1bd9549c-fb5b-4d58-a80d-f7f0dec0602f",
   "metadata": {
    "pycharm": {
     "name": "#%%\n"
    }
   },
   "outputs": [
    {
     "data": {
      "text/html": [
       "<div>\n",
       "<style scoped>\n",
       "    .dataframe tbody tr th:only-of-type {\n",
       "        vertical-align: middle;\n",
       "    }\n",
       "\n",
       "    .dataframe tbody tr th {\n",
       "        vertical-align: top;\n",
       "    }\n",
       "\n",
       "    .dataframe thead th {\n",
       "        text-align: right;\n",
       "    }\n",
       "</style>\n",
       "<table border=\"1\" class=\"dataframe\">\n",
       "  <thead>\n",
       "    <tr style=\"text-align: right;\">\n",
       "      <th></th>\n",
       "      <th>missing</th>\n",
       "      <th>dtype</th>\n",
       "    </tr>\n",
       "  </thead>\n",
       "  <tbody>\n",
       "    <tr>\n",
       "      <th>id</th>\n",
       "      <td>0</td>\n",
       "      <td>int64</td>\n",
       "    </tr>\n",
       "    <tr>\n",
       "      <th>amount_tsh</th>\n",
       "      <td>0</td>\n",
       "      <td>float64</td>\n",
       "    </tr>\n",
       "    <tr>\n",
       "      <th>date_recorded</th>\n",
       "      <td>0</td>\n",
       "      <td>datetime64[ns]</td>\n",
       "    </tr>\n",
       "    <tr>\n",
       "      <th>funder</th>\n",
       "      <td>3635</td>\n",
       "      <td>object</td>\n",
       "    </tr>\n",
       "    <tr>\n",
       "      <th>gps_height</th>\n",
       "      <td>0</td>\n",
       "      <td>int64</td>\n",
       "    </tr>\n",
       "    <tr>\n",
       "      <th>installer</th>\n",
       "      <td>3655</td>\n",
       "      <td>object</td>\n",
       "    </tr>\n",
       "    <tr>\n",
       "      <th>longitude</th>\n",
       "      <td>0</td>\n",
       "      <td>float64</td>\n",
       "    </tr>\n",
       "    <tr>\n",
       "      <th>latitude</th>\n",
       "      <td>0</td>\n",
       "      <td>float64</td>\n",
       "    </tr>\n",
       "    <tr>\n",
       "      <th>wpt_name</th>\n",
       "      <td>0</td>\n",
       "      <td>object</td>\n",
       "    </tr>\n",
       "    <tr>\n",
       "      <th>num_private</th>\n",
       "      <td>0</td>\n",
       "      <td>int64</td>\n",
       "    </tr>\n",
       "    <tr>\n",
       "      <th>basin</th>\n",
       "      <td>0</td>\n",
       "      <td>object</td>\n",
       "    </tr>\n",
       "    <tr>\n",
       "      <th>subvillage</th>\n",
       "      <td>371</td>\n",
       "      <td>object</td>\n",
       "    </tr>\n",
       "    <tr>\n",
       "      <th>region</th>\n",
       "      <td>0</td>\n",
       "      <td>object</td>\n",
       "    </tr>\n",
       "    <tr>\n",
       "      <th>region_code</th>\n",
       "      <td>0</td>\n",
       "      <td>int64</td>\n",
       "    </tr>\n",
       "    <tr>\n",
       "      <th>district_code</th>\n",
       "      <td>0</td>\n",
       "      <td>int64</td>\n",
       "    </tr>\n",
       "    <tr>\n",
       "      <th>lga</th>\n",
       "      <td>0</td>\n",
       "      <td>object</td>\n",
       "    </tr>\n",
       "    <tr>\n",
       "      <th>ward</th>\n",
       "      <td>0</td>\n",
       "      <td>object</td>\n",
       "    </tr>\n",
       "    <tr>\n",
       "      <th>population</th>\n",
       "      <td>0</td>\n",
       "      <td>int64</td>\n",
       "    </tr>\n",
       "    <tr>\n",
       "      <th>public_meeting</th>\n",
       "      <td>3334</td>\n",
       "      <td>object</td>\n",
       "    </tr>\n",
       "    <tr>\n",
       "      <th>recorded_by</th>\n",
       "      <td>0</td>\n",
       "      <td>object</td>\n",
       "    </tr>\n",
       "    <tr>\n",
       "      <th>scheme_management</th>\n",
       "      <td>3877</td>\n",
       "      <td>object</td>\n",
       "    </tr>\n",
       "    <tr>\n",
       "      <th>scheme_name</th>\n",
       "      <td>28166</td>\n",
       "      <td>object</td>\n",
       "    </tr>\n",
       "    <tr>\n",
       "      <th>permit</th>\n",
       "      <td>3056</td>\n",
       "      <td>object</td>\n",
       "    </tr>\n",
       "    <tr>\n",
       "      <th>construction_year</th>\n",
       "      <td>0</td>\n",
       "      <td>int64</td>\n",
       "    </tr>\n",
       "    <tr>\n",
       "      <th>extraction_type</th>\n",
       "      <td>0</td>\n",
       "      <td>object</td>\n",
       "    </tr>\n",
       "    <tr>\n",
       "      <th>extraction_type_group</th>\n",
       "      <td>0</td>\n",
       "      <td>object</td>\n",
       "    </tr>\n",
       "    <tr>\n",
       "      <th>extraction_type_class</th>\n",
       "      <td>0</td>\n",
       "      <td>object</td>\n",
       "    </tr>\n",
       "    <tr>\n",
       "      <th>management</th>\n",
       "      <td>0</td>\n",
       "      <td>object</td>\n",
       "    </tr>\n",
       "    <tr>\n",
       "      <th>management_group</th>\n",
       "      <td>0</td>\n",
       "      <td>object</td>\n",
       "    </tr>\n",
       "    <tr>\n",
       "      <th>payment</th>\n",
       "      <td>0</td>\n",
       "      <td>object</td>\n",
       "    </tr>\n",
       "    <tr>\n",
       "      <th>payment_type</th>\n",
       "      <td>0</td>\n",
       "      <td>object</td>\n",
       "    </tr>\n",
       "    <tr>\n",
       "      <th>water_quality</th>\n",
       "      <td>0</td>\n",
       "      <td>object</td>\n",
       "    </tr>\n",
       "    <tr>\n",
       "      <th>quality_group</th>\n",
       "      <td>0</td>\n",
       "      <td>object</td>\n",
       "    </tr>\n",
       "    <tr>\n",
       "      <th>quantity</th>\n",
       "      <td>0</td>\n",
       "      <td>object</td>\n",
       "    </tr>\n",
       "    <tr>\n",
       "      <th>quantity_group</th>\n",
       "      <td>0</td>\n",
       "      <td>object</td>\n",
       "    </tr>\n",
       "    <tr>\n",
       "      <th>source</th>\n",
       "      <td>0</td>\n",
       "      <td>object</td>\n",
       "    </tr>\n",
       "    <tr>\n",
       "      <th>source_type</th>\n",
       "      <td>0</td>\n",
       "      <td>object</td>\n",
       "    </tr>\n",
       "    <tr>\n",
       "      <th>source_class</th>\n",
       "      <td>0</td>\n",
       "      <td>object</td>\n",
       "    </tr>\n",
       "    <tr>\n",
       "      <th>waterpoint_type</th>\n",
       "      <td>0</td>\n",
       "      <td>object</td>\n",
       "    </tr>\n",
       "    <tr>\n",
       "      <th>waterpoint_type_group</th>\n",
       "      <td>0</td>\n",
       "      <td>object</td>\n",
       "    </tr>\n",
       "    <tr>\n",
       "      <th>status_group</th>\n",
       "      <td>0</td>\n",
       "      <td>object</td>\n",
       "    </tr>\n",
       "  </tbody>\n",
       "</table>\n",
       "</div>"
      ],
      "text/plain": [
       "                       missing           dtype\n",
       "id                           0           int64\n",
       "amount_tsh                   0         float64\n",
       "date_recorded                0  datetime64[ns]\n",
       "funder                    3635          object\n",
       "gps_height                   0           int64\n",
       "installer                 3655          object\n",
       "longitude                    0         float64\n",
       "latitude                     0         float64\n",
       "wpt_name                     0          object\n",
       "num_private                  0           int64\n",
       "basin                        0          object\n",
       "subvillage                 371          object\n",
       "region                       0          object\n",
       "region_code                  0           int64\n",
       "district_code                0           int64\n",
       "lga                          0          object\n",
       "ward                         0          object\n",
       "population                   0           int64\n",
       "public_meeting            3334          object\n",
       "recorded_by                  0          object\n",
       "scheme_management         3877          object\n",
       "scheme_name              28166          object\n",
       "permit                    3056          object\n",
       "construction_year            0           int64\n",
       "extraction_type              0          object\n",
       "extraction_type_group        0          object\n",
       "extraction_type_class        0          object\n",
       "management                   0          object\n",
       "management_group             0          object\n",
       "payment                      0          object\n",
       "payment_type                 0          object\n",
       "water_quality                0          object\n",
       "quality_group                0          object\n",
       "quantity                     0          object\n",
       "quantity_group               0          object\n",
       "source                       0          object\n",
       "source_type                  0          object\n",
       "source_class                 0          object\n",
       "waterpoint_type              0          object\n",
       "waterpoint_type_group        0          object\n",
       "status_group                 0          object"
      ]
     },
     "metadata": {},
     "output_type": "display_data"
    }
   ],
   "source": [
    "count_missing_values(water_pump_data)"
   ]
  },
  {
   "cell_type": "markdown",
   "id": "750064db-bade-4c59-a627-c3f3ef63e17e",
   "metadata": {
    "pycharm": {
     "name": "#%% md\n"
    }
   },
   "source": [
    "## 2.1 Continuous columns\n",
    "\n",
    "All missing values seem to be in the categorical columns. There are columns that have 0 values, which might indicate missing."
   ]
  },
  {
   "cell_type": "code",
   "execution_count": 7,
   "id": "dfd8b443-d465-4680-91bc-996365811eb9",
   "metadata": {
    "pycharm": {
     "name": "#%%\n"
    }
   },
   "outputs": [
    {
     "data": {
      "text/html": [
       "<div>\n",
       "<style scoped>\n",
       "    .dataframe tbody tr th:only-of-type {\n",
       "        vertical-align: middle;\n",
       "    }\n",
       "\n",
       "    .dataframe tbody tr th {\n",
       "        vertical-align: top;\n",
       "    }\n",
       "\n",
       "    .dataframe thead th {\n",
       "        text-align: right;\n",
       "    }\n",
       "</style>\n",
       "<table border=\"1\" class=\"dataframe\">\n",
       "  <thead>\n",
       "    <tr style=\"text-align: right;\">\n",
       "      <th></th>\n",
       "      <th>id</th>\n",
       "      <th>amount_tsh</th>\n",
       "      <th>gps_height</th>\n",
       "      <th>longitude</th>\n",
       "      <th>latitude</th>\n",
       "      <th>num_private</th>\n",
       "      <th>region_code</th>\n",
       "      <th>district_code</th>\n",
       "      <th>population</th>\n",
       "      <th>construction_year</th>\n",
       "    </tr>\n",
       "  </thead>\n",
       "  <tbody>\n",
       "    <tr>\n",
       "      <th>count</th>\n",
       "      <td>59400.000000</td>\n",
       "      <td>59400.000000</td>\n",
       "      <td>59400.000000</td>\n",
       "      <td>59400.000000</td>\n",
       "      <td>5.940000e+04</td>\n",
       "      <td>59400.000000</td>\n",
       "      <td>59400.000000</td>\n",
       "      <td>59400.000000</td>\n",
       "      <td>59400.000000</td>\n",
       "      <td>59400.000000</td>\n",
       "    </tr>\n",
       "    <tr>\n",
       "      <th>mean</th>\n",
       "      <td>37115.131768</td>\n",
       "      <td>317.650385</td>\n",
       "      <td>668.297239</td>\n",
       "      <td>34.077427</td>\n",
       "      <td>-5.706033e+00</td>\n",
       "      <td>0.474141</td>\n",
       "      <td>15.297003</td>\n",
       "      <td>5.629747</td>\n",
       "      <td>179.909983</td>\n",
       "      <td>1300.652475</td>\n",
       "    </tr>\n",
       "    <tr>\n",
       "      <th>std</th>\n",
       "      <td>21453.128371</td>\n",
       "      <td>2997.574558</td>\n",
       "      <td>693.116350</td>\n",
       "      <td>6.567432</td>\n",
       "      <td>2.946019e+00</td>\n",
       "      <td>12.236230</td>\n",
       "      <td>17.587406</td>\n",
       "      <td>9.633649</td>\n",
       "      <td>471.482176</td>\n",
       "      <td>951.620547</td>\n",
       "    </tr>\n",
       "    <tr>\n",
       "      <th>min</th>\n",
       "      <td>0.000000</td>\n",
       "      <td>0.000000</td>\n",
       "      <td>-90.000000</td>\n",
       "      <td>0.000000</td>\n",
       "      <td>-1.164944e+01</td>\n",
       "      <td>0.000000</td>\n",
       "      <td>1.000000</td>\n",
       "      <td>0.000000</td>\n",
       "      <td>0.000000</td>\n",
       "      <td>0.000000</td>\n",
       "    </tr>\n",
       "    <tr>\n",
       "      <th>25%</th>\n",
       "      <td>18519.750000</td>\n",
       "      <td>0.000000</td>\n",
       "      <td>0.000000</td>\n",
       "      <td>33.090347</td>\n",
       "      <td>-8.540621e+00</td>\n",
       "      <td>0.000000</td>\n",
       "      <td>5.000000</td>\n",
       "      <td>2.000000</td>\n",
       "      <td>0.000000</td>\n",
       "      <td>0.000000</td>\n",
       "    </tr>\n",
       "    <tr>\n",
       "      <th>50%</th>\n",
       "      <td>37061.500000</td>\n",
       "      <td>0.000000</td>\n",
       "      <td>369.000000</td>\n",
       "      <td>34.908743</td>\n",
       "      <td>-5.021597e+00</td>\n",
       "      <td>0.000000</td>\n",
       "      <td>12.000000</td>\n",
       "      <td>3.000000</td>\n",
       "      <td>25.000000</td>\n",
       "      <td>1986.000000</td>\n",
       "    </tr>\n",
       "    <tr>\n",
       "      <th>75%</th>\n",
       "      <td>55656.500000</td>\n",
       "      <td>20.000000</td>\n",
       "      <td>1319.250000</td>\n",
       "      <td>37.178387</td>\n",
       "      <td>-3.326156e+00</td>\n",
       "      <td>0.000000</td>\n",
       "      <td>17.000000</td>\n",
       "      <td>5.000000</td>\n",
       "      <td>215.000000</td>\n",
       "      <td>2004.000000</td>\n",
       "    </tr>\n",
       "    <tr>\n",
       "      <th>max</th>\n",
       "      <td>74247.000000</td>\n",
       "      <td>350000.000000</td>\n",
       "      <td>2770.000000</td>\n",
       "      <td>40.345193</td>\n",
       "      <td>-2.000000e-08</td>\n",
       "      <td>1776.000000</td>\n",
       "      <td>99.000000</td>\n",
       "      <td>80.000000</td>\n",
       "      <td>30500.000000</td>\n",
       "      <td>2013.000000</td>\n",
       "    </tr>\n",
       "  </tbody>\n",
       "</table>\n",
       "</div>"
      ],
      "text/plain": [
       "                 id     amount_tsh    gps_height     longitude      latitude  \\\n",
       "count  59400.000000   59400.000000  59400.000000  59400.000000  5.940000e+04   \n",
       "mean   37115.131768     317.650385    668.297239     34.077427 -5.706033e+00   \n",
       "std    21453.128371    2997.574558    693.116350      6.567432  2.946019e+00   \n",
       "min        0.000000       0.000000    -90.000000      0.000000 -1.164944e+01   \n",
       "25%    18519.750000       0.000000      0.000000     33.090347 -8.540621e+00   \n",
       "50%    37061.500000       0.000000    369.000000     34.908743 -5.021597e+00   \n",
       "75%    55656.500000      20.000000   1319.250000     37.178387 -3.326156e+00   \n",
       "max    74247.000000  350000.000000   2770.000000     40.345193 -2.000000e-08   \n",
       "\n",
       "        num_private   region_code  district_code    population  \\\n",
       "count  59400.000000  59400.000000   59400.000000  59400.000000   \n",
       "mean       0.474141     15.297003       5.629747    179.909983   \n",
       "std       12.236230     17.587406       9.633649    471.482176   \n",
       "min        0.000000      1.000000       0.000000      0.000000   \n",
       "25%        0.000000      5.000000       2.000000      0.000000   \n",
       "50%        0.000000     12.000000       3.000000     25.000000   \n",
       "75%        0.000000     17.000000       5.000000    215.000000   \n",
       "max     1776.000000     99.000000      80.000000  30500.000000   \n",
       "\n",
       "       construction_year  \n",
       "count       59400.000000  \n",
       "mean         1300.652475  \n",
       "std           951.620547  \n",
       "min             0.000000  \n",
       "25%             0.000000  \n",
       "50%          1986.000000  \n",
       "75%          2004.000000  \n",
       "max          2013.000000  "
      ]
     },
     "execution_count": 7,
     "metadata": {},
     "output_type": "execute_result"
    }
   ],
   "source": [
    "# get description of continuous variables\n",
    "water_pump_data.describe()"
   ]
  },
  {
   "cell_type": "code",
   "execution_count": 8,
   "id": "956247b8-617f-448f-b718-f60536e95477",
   "metadata": {
    "pycharm": {
     "name": "#%%\n"
    }
   },
   "outputs": [
    {
     "name": "stdout",
     "output_type": "stream",
     "text": [
      "Column name with number of 0 values\n",
      "id: 1 \n",
      "amount_tsh: 41639 \n",
      "gps_height: 20438 \n",
      "longitude: 1812 \n",
      "latitude: 0 \n",
      "num_private: 58643 \n",
      "region_code: 0 \n",
      "district_code: 23 \n",
      "population: 21381 \n",
      "construction_year: 20709 \n"
     ]
    }
   ],
   "source": [
    "# loop over continuous columns and count values equal to 0\n",
    "print(\"Column name with number of 0 values\")\n",
    "for col in water_pump_data.select_dtypes(include='number'):\n",
    "    num_zeros = (water_pump_data[col] == 0).sum()\n",
    "    print(f\"{col}: {num_zeros} \")\n"
   ]
  },
  {
   "cell_type": "code",
   "execution_count": 9,
   "id": "9e103d62-0877-42bb-891f-748844abbcbe",
   "metadata": {
    "pycharm": {
     "name": "#%%\n"
    }
   },
   "outputs": [
    {
     "data": {
      "image/png": "[encoded data removed]",
      "text/plain": [
       "<Figure size 2000x1000 with 12 Axes>"
      ]
     },
     "metadata": {},
     "output_type": "display_data"
    }
   ],
   "source": [
    "# plot histograms of the columns\n",
    "\n",
    "cont_cols = list(water_pump_data.select_dtypes(include='number').columns)\n",
    "\n",
    "water_pump_data.hist(column=cont_cols, bins=50, figsize=(20, 10), xlabelsize=8, ylabelsize=8)\n",
    "\n",
    "# add a title and labels to the plot\n",
    "plt.suptitle('Histograms')\n",
    "plt.xlabel('Values')\n",
    "plt.ylabel('Frequency')\n",
    "\n",
    "# display the plot\n",
    "plt.show()"
   ]
  },
  {
   "cell_type": "markdown",
   "id": "a23d83e8-8699-497a-b7ca-9b8e61d282ae",
   "metadata": {
    "pycharm": {
     "name": "#%% md\n"
    }
   },
   "source": [
    "### Strategies"
   ]
  },
  {
   "cell_type": "markdown",
   "id": "78f960f6-c4cd-4877-9b36-62f1a47d47ee",
   "metadata": {
    "pycharm": {
     "name": "#%% md\n"
    }
   },
   "source": [
    "For dealing with continuous missing data, we can use one of the following strategies.\n",
    "\n",
    "1. Delete missing values, either per row (listwise, using `df.dropna(axis=0)` or per column `df.drop([[columns_with_many_missing_values]], axis=1)`\n",
    "2. Replace with previous value or backward fill`df.fillna(method='bfill')` \n",
    "3. Replace with next value or forward fill `df.fillna(method='ffill')`)\n",
    "4. Replace with arbitrary value based on domain knowledge `df.fillna(value=1)`)\n",
    "5. Interpolation, methods include ‘polynomial,’ ‘linear,’ and ‘quadratic.’ Default is linear (`df.interpolate`)\n",
    "6. Replace with mean `df[col].fillna(df[col].mean())`\n",
    "7. Replace with median `df[col].fillna(df[col].median())`\n",
    "8. Replace with mode `df[col].fillna(df[col].mode()[0])`\n",
    "9. Do nothing (let algorithm handle the missing data, like XGBoost that learn the best imputation methods or others have option to just ignore them). \n",
    "10.Zero or Constant imputation: it replaces the missing values with either zero or any constant value `df.fillna(value=0)`\n"
   ]
  },
  {
   "cell_type": "markdown",
   "id": "78519ce8-6ca1-44a1-9891-9d6b14f8fa8b",
   "metadata": {
    "pycharm": {
     "name": "#%% md\n"
    }
   },
   "source": [
    "Below an overview of all continuous variables and how to deal with missing values if needed. 0 indicates that there is no missing data and requires no action."
   ]
  },
  {
   "cell_type": "markdown",
   "id": "63f00245-74e8-46ec-93ff-9f60d9ae9334",
   "metadata": {
    "pycharm": {
     "name": "#%% md\n"
    }
   },
   "source": [
    "| Column | Meaning | Strategy # | Comment|\n",
    "| --- | --- | --- | --- | \n",
    "| id | index | 9 | unique for each observation. Drop column later.|\n",
    "| amount_tsh | total static head (amount water available to waterpoint) | 9 | lot's of 0's, might be an important feature, leaving as it is |\n",
    "| gps_height | altitude to the well | 7 | Can the altitude be 0? Replace with median |\n",
    "| num_private | unknown | 9 | lot's of 0's, but not sure about meaning. |\n",
    "| region_code | geographic location (coded)| 0 | no missing data | \n",
    "| district_code | geographic location (coded | 9 | missing values can be partly captured by other geographical variables |\n",
    "| population | population around the well | 6,7 | step 1. Get region and calculate the mean population from region. Step 2: impute rest with the median of the column|\n",
    "| construction_year | year waterpoint was constructed | 9 | No other information, leaving as it is|\n",
    "| longitude | GPS coordinate | 6, 7 | step 1. Get region and calculate the mean longitude from region. Step 2: impute rest with the median of the column|\n",
    "| latitude | GPS coordinate | 6,7 | step 1. Get region and calculate the mean longitude from region. Step 2: impute rest with the median of the column|"
   ]
  },
  {
   "cell_type": "markdown",
   "id": "2e00aa11-492a-4f39-91f8-0c57eac8e944",
   "metadata": {
    "pycharm": {
     "name": "#%% md\n"
    }
   },
   "source": [
    "\n",
    "Note that a region is below the area and above the district in the organizational hierarchy.\n",
    "Note that region_code and district_code are categorical and encoded. Construction year is a time variable. Lat and lon are gps coordinates."
   ]
  },
  {
   "cell_type": "code",
   "execution_count": 10,
   "id": "20dbdf3d-0b29-4d2b-b9af-a88214f7afbc",
   "metadata": {
    "pycharm": {
     "name": "#%%\n"
    }
   },
   "outputs": [],
   "source": [
    "# 1. ID\n",
    "# To drop later\n",
    "# water_pump_data.drop(['id'], axis=1, inplace=True)\n",
    "# print(water_pump_data.shape)"
   ]
  },
  {
   "cell_type": "code",
   "execution_count": 11,
   "id": "030f2aa0-5bc5-48c5-a605-585068fa9365",
   "metadata": {
    "pycharm": {
     "name": "#%%\n"
    }
   },
   "outputs": [],
   "source": [
    "# 2. amount_tsh\n",
    "\n",
    "# Median and mode are 0. Taking mean doesn't make sense because of so many 0's.\n",
    "# Options are to drop whole column, replace with mean or leave it as it is. Leaving it for now. \n"
   ]
  },
  {
   "cell_type": "code",
   "execution_count": 12,
   "id": "391576da-d9d5-4986-b088-cb42c51a8afc",
   "metadata": {
    "pycharm": {
     "name": "#%%\n"
    }
   },
   "outputs": [
    {
     "data": {
      "image/png": "[encoded data removed]",
      "text/plain": [
       "<Figure size 640x480 with 2 Axes>"
      ]
     },
     "metadata": {},
     "output_type": "display_data"
    }
   ],
   "source": [
    "# 3. gps_height\n",
    "# replace 0 with median\n",
    "water_pump_data['gps_height_new'] = water_pump_data['gps_height'].replace(to_replace=0, value=water_pump_data['gps_height'].median())\n",
    "\n",
    "plt.subplot(1, 2, 1)\n",
    "plt.hist(water_pump_data['gps_height'], bins=30)\n",
    "plt.title('gps_height')\n",
    "\n",
    "plt.subplot(1, 2, 2)\n",
    "plt.hist(water_pump_data['gps_height_new'], bins=30)\n",
    "plt.title('gps_height after median imputation')\n",
    "\n",
    "plt.subplots_adjust(wspace=1.5)\n",
    "\n",
    "# display plot\n",
    "plt.show()"
   ]
  },
  {
   "cell_type": "code",
   "execution_count": 13,
   "id": "94ef1dbb-5f9c-4834-b933-390c38a6837f",
   "metadata": {
    "pycharm": {
     "name": "#%%\n"
    },
    "tags": []
   },
   "outputs": [],
   "source": [
    "# 4. num_private. High number of 0's. Not sure about meaning. Drop this column later. \n",
    "# water_pump_data.drop(['num_private'], axis=1, inplace=True)\n"
   ]
  },
  {
   "cell_type": "code",
   "execution_count": 14,
   "id": "8a86ec68-1523-42bd-b555-45e31e9fa27a",
   "metadata": {
    "pycharm": {
     "name": "#%%\n"
    }
   },
   "outputs": [],
   "source": [
    "# 5. District code \n",
    "# probably partly captured by region_code and lat lon\n",
    "# Leaving as it is."
   ]
  },
  {
   "cell_type": "code",
   "execution_count": 15,
   "id": "c77a034b-84e6-45a7-9a04-57f8d29a6116",
   "metadata": {
    "pycharm": {
     "name": "#%%\n"
    }
   },
   "outputs": [],
   "source": [
    "def get_column_mean_of_region(region_code, column_name):\n",
    "    data_without_zeros_in_col = water_pump_data[[column_name, 'region_code']][water_pump_data[column_name] != 0]\n",
    "    available_region_codes = data_without_zeros_in_col['region_code'].unique().tolist()\n",
    "    if region_code in available_region_codes:\n",
    "        col_mean = data_without_zeros_in_col[column_name][data_without_zeros_in_col['region_code']==region_code].mean()\n",
    "        return int(col_mean)\n",
    "    else:\n",
    "        return 0"
   ]
  },
  {
   "cell_type": "code",
   "execution_count": 16,
   "id": "39aa85e3-4b22-427b-b3cf-669eefe3c906",
   "metadata": {
    "pycharm": {
     "name": "#%%\n"
    }
   },
   "outputs": [
    {
     "data": {
      "image/png": "[encoded data removed]",
      "text/plain": [
       "<Figure size 640x480 with 2 Axes>"
      ]
     },
     "metadata": {},
     "output_type": "display_data"
    },
    {
     "data": {
      "text/html": [
       "<div>\n",
       "<style scoped>\n",
       "    .dataframe tbody tr th:only-of-type {\n",
       "        vertical-align: middle;\n",
       "    }\n",
       "\n",
       "    .dataframe tbody tr th {\n",
       "        vertical-align: top;\n",
       "    }\n",
       "\n",
       "    .dataframe thead th {\n",
       "        text-align: right;\n",
       "    }\n",
       "</style>\n",
       "<table border=\"1\" class=\"dataframe\">\n",
       "  <thead>\n",
       "    <tr style=\"text-align: right;\">\n",
       "      <th></th>\n",
       "      <th>population</th>\n",
       "      <th>population_new</th>\n",
       "      <th>region_code</th>\n",
       "    </tr>\n",
       "  </thead>\n",
       "  <tbody>\n",
       "    <tr>\n",
       "      <th>4</th>\n",
       "      <td>0</td>\n",
       "      <td>200</td>\n",
       "      <td>18</td>\n",
       "    </tr>\n",
       "    <tr>\n",
       "      <th>6</th>\n",
       "      <td>0</td>\n",
       "      <td>428</td>\n",
       "      <td>17</td>\n",
       "    </tr>\n",
       "    <tr>\n",
       "      <th>7</th>\n",
       "      <td>0</td>\n",
       "      <td>428</td>\n",
       "      <td>17</td>\n",
       "    </tr>\n",
       "    <tr>\n",
       "      <th>8</th>\n",
       "      <td>0</td>\n",
       "      <td>150</td>\n",
       "      <td>14</td>\n",
       "    </tr>\n",
       "    <tr>\n",
       "      <th>9</th>\n",
       "      <td>0</td>\n",
       "      <td>200</td>\n",
       "      <td>18</td>\n",
       "    </tr>\n",
       "    <tr>\n",
       "      <th>...</th>\n",
       "      <td>...</td>\n",
       "      <td>...</td>\n",
       "      <td>...</td>\n",
       "    </tr>\n",
       "    <tr>\n",
       "      <th>59384</th>\n",
       "      <td>0</td>\n",
       "      <td>200</td>\n",
       "      <td>18</td>\n",
       "    </tr>\n",
       "    <tr>\n",
       "      <th>59392</th>\n",
       "      <td>0</td>\n",
       "      <td>150</td>\n",
       "      <td>12</td>\n",
       "    </tr>\n",
       "    <tr>\n",
       "      <th>59393</th>\n",
       "      <td>0</td>\n",
       "      <td>150</td>\n",
       "      <td>14</td>\n",
       "    </tr>\n",
       "    <tr>\n",
       "      <th>59397</th>\n",
       "      <td>0</td>\n",
       "      <td>150</td>\n",
       "      <td>12</td>\n",
       "    </tr>\n",
       "    <tr>\n",
       "      <th>59398</th>\n",
       "      <td>0</td>\n",
       "      <td>150</td>\n",
       "      <td>1</td>\n",
       "    </tr>\n",
       "  </tbody>\n",
       "</table>\n",
       "<p>21381 rows × 3 columns</p>\n",
       "</div>"
      ],
      "text/plain": [
       "       population  population_new  region_code\n",
       "4               0             200           18\n",
       "6               0             428           17\n",
       "7               0             428           17\n",
       "8               0             150           14\n",
       "9               0             200           18\n",
       "...           ...             ...          ...\n",
       "59384           0             200           18\n",
       "59392           0             150           12\n",
       "59393           0             150           14\n",
       "59397           0             150           12\n",
       "59398           0             150            1\n",
       "\n",
       "[21381 rows x 3 columns]"
      ]
     },
     "metadata": {},
     "output_type": "display_data"
    }
   ],
   "source": [
    "# 6. Population. \n",
    "# Get the region and get the mean population from that region\n",
    "# Then, the rest is imputed with the median\n",
    "\n",
    "# Get population mean from region\n",
    "water_pump_data['population_new'] = water_pump_data.apply(lambda row: get_column_mean_of_region(row['region_code'], 'population') if row['population'] == 0 else row['population'], axis=1)\n",
    "# Impute 0 values with median\n",
    "water_pump_data['population_new'] = water_pump_data['population_new'].replace(to_replace=0, value=water_pump_data['population_new'].median())\n",
    "\n",
    "plt.subplot(1, 2, 1)\n",
    "plt.hist(water_pump_data.population, bins=30)\n",
    "plt.title('population')\n",
    "\n",
    "plt.subplot(1, 2, 2)\n",
    "plt.hist(water_pump_data.population_new, bins=30)\n",
    "plt.title('population after imputation ')    \n",
    "\n",
    "plt.subplots_adjust(wspace=1.5)\n",
    "\n",
    "# display plot\n",
    "plt.show()\n",
    "\n",
    "# check if imputation worked\n",
    "diff_rows = water_pump_data[['population', 'population_new', 'region_code']][water_pump_data['population'] != water_pump_data['population_new']]\n",
    "\n",
    "# display the filtered DataFrame\n",
    "display(diff_rows)"
   ]
  },
  {
   "cell_type": "code",
   "execution_count": 17,
   "id": "f4ae33d8-359e-494c-a942-5c83e0b8d39b",
   "metadata": {
    "pycharm": {
     "name": "#%%\n"
    }
   },
   "outputs": [],
   "source": [
    "# 7. construction year: leave it as is\n"
   ]
  },
  {
   "cell_type": "code",
   "execution_count": 18,
   "id": "d9333db0-4643-4ae1-8f12-971a1ee0600e",
   "metadata": {
    "pycharm": {
     "name": "#%%\n"
    }
   },
   "outputs": [],
   "source": [
    "# 8. Longitude\n",
    "# Get the region and get the mean population from that region\n",
    "# Then, the rest is imputed with the median\n",
    "\n",
    "# Get longitude mean from region\n",
    "water_pump_data['longitude_new'] = water_pump_data.apply(lambda row: get_column_mean_of_region(row['region_code'], 'longitude') if row['longitude'] == 0 else row['longitude'], axis=1)\n",
    "# Impute 0 values with median\n",
    "water_pump_data['longitude_new'] = water_pump_data['longitude_new'].replace(to_replace=0, value=water_pump_data['longitude_new'].median())\n",
    "\n",
    "# For all missing longitudes, the corresponding latitude is -2.e-08, replace with 0 first\n",
    "water_pump_data['latitude'] = water_pump_data['latitude'].replace(-2.e-08, 0)\n",
    "# Then replace 0's with mean latitude of the region\n",
    "water_pump_data['latitude_new'] = water_pump_data.apply(lambda row: get_column_mean_of_region(row['region_code'], 'latitude') if row['latitude'] == 0 else row['latitude'], axis=1)\n",
    "# Impute 0 values with median\n",
    "water_pump_data['latitude_new'] = water_pump_data['latitude_new'].replace(to_replace=0, value=water_pump_data['latitude_new'].median())\n",
    "\n"
   ]
  },
  {
   "cell_type": "code",
   "execution_count": 19,
   "id": "24e6b383-fbe3-4937-b55e-d5f17b722d19",
   "metadata": {
    "pycharm": {
     "name": "#%%\n"
    }
   },
   "outputs": [
    {
     "data": {
      "image/png": "[encoded data removed]",
      "text/plain": [
       "<Figure size 2000x500 with 4 Axes>"
      ]
     },
     "metadata": {},
     "output_type": "display_data"
    }
   ],
   "source": [
    "fig, (ax1, ax2, ax3, ax4) = plt.subplots(1, 4,  figsize=(20, 5))\n",
    "ax1.hist(water_pump_data.longitude, bins=30)\n",
    "ax1.set_title('longitude')\n",
    "ax2.hist(water_pump_data.longitude_new, bins=30)\n",
    "ax2.set_title('longitude after imputation')\n",
    "ax3.hist(water_pump_data.latitude, bins=30)\n",
    "ax3.set_title('latitude')\n",
    "ax4.hist(water_pump_data.latitude_new, bins=30)\n",
    "ax4.set_title('latitude after imputation')\n",
    "\n",
    "\n",
    "plt.subplots_adjust(wspace=1.5)\n",
    "\n",
    "plt.show()"
   ]
  },
  {
   "cell_type": "markdown",
   "source": [
    "## 2.2 Categorical columns"
   ],
   "metadata": {
    "collapsed": false,
    "pycharm": {
     "name": "#%% md\n"
    }
   }
  },
  {
   "cell_type": "code",
   "execution_count": null,
   "outputs": [],
   "source": [
    "# transform all strings to lowercase\n",
    "water_pump_data = water_pump_data.applymap(lambda s: s.lower() if type(s) == str else s)\n",
    "\n",
    "# transform strings like none or nan to np.nan\n",
    "water_pump_data = water_pump_data.replace({'none': np.nan, 'nan': np.nan, '0': np.nan})\n",
    "\n",
    "# replace '[' and ']' with ''\n",
    "water_pump_data = water_pump_data.replace({'\\[': ' ', '\\]': ' ', '  ': ''}, regex=True)\n",
    "\n",
    "# get categorical columns\n",
    "cat_cols = water_pump_data.select_dtypes(include='object').columns\n",
    "\n",
    "# get missing values\n",
    "cat_missing_values = water_pump_data[cat_cols].isna().sum()\n",
    "\n",
    "# sort the missing values count by column in descending order\n",
    "missing_values_count_sorted = cat_missing_values.sort_values(ascending=False)\n",
    "missing_values_count_sorted"
   ],
   "metadata": {
    "collapsed": false,
    "pycharm": {
     "name": "#%%\n"
    }
   }
  },
  {
   "cell_type": "markdown",
   "source": [
    "### Strategies \n",
    "\n",
    "For categorical variables, we can treat missing values with one of the following methods:\n",
    "\n",
    "1. Drop rows with missing values\n",
    "2. Drop full column with missing values\n",
    "3. Label as seperate category, i.e. 'missing'\n",
    "4. Fill missing value with mode\n",
    "5. Use a machine learning model to impute missing values"
   ],
   "metadata": {
    "collapsed": false,
    "pycharm": {
     "name": "#%% md\n"
    }
   }
  },
  {
   "cell_type": "markdown",
   "source": [
    "Since I am planning to use a decision tree approach , I will label all the missing values as a separate category as it can handle missing within the tree itself."
   ],
   "metadata": {
    "collapsed": false,
    "pycharm": {
     "name": "#%% md\n"
    }
   }
  },
  {
   "cell_type": "markdown",
   "source": [
    "| Column | Meaning | Strategy # | Comment\n",
    "| --- | --- | --- | --- | \n",
    "| scheme_name | Who operates the waterpoint | 3 | related to scheme management?\n",
    "| scheme_management | Who operates the waterpoint | 3 | related to scheme_name ?|\n",
    "| installer |  Organization that installed the well | 3 | high cardinality, overlaps with funder and installer\n",
    "| funder |  Who funded the well | 3 | high cardinality (many categories), overlaps with installer and scheme_name\n",
    "| wpt_name | Name of the waterpoint if there is one | 3 | extremely high cardinality, no other information \n",
    "| public_meeting | True/False| 3 | no other information available | \n",
    "| permit | If the waterpoint is permitted | 3 | No other information, leaving as it is\n",
    "| subvillage | Geographic location | 3 |  extremely high cardinality, probably overlaps with other geo data\n"
   ],
   "metadata": {
    "collapsed": false,
    "pycharm": {
     "name": "#%% md\n"
    }
   }
  },
  {
   "cell_type": "code",
   "execution_count": null,
   "outputs": [],
   "source": [
    "# replace NaN values with 'not_available'\n",
    "water_pump_data.fillna(value='not_available', inplace=True)\n",
    "\n",
    "# check for missing values\n",
    "water_pump_data[cat_cols].isna().sum()\n"
   ],
   "metadata": {
    "collapsed": false,
    "pycharm": {
     "name": "#%%\n"
    }
   }
  },
  {
   "cell_type": "markdown",
   "source": [
    "# 3. Outliers"
   ],
   "metadata": {
    "collapsed": false,
    "pycharm": {
     "name": "#%% md\n"
    }
   }
  },
  {
   "cell_type": "code",
   "execution_count": null,
   "outputs": [],
   "source": [
    "continuous_vars = ['amount_tsh', 'gps_height', 'num_private', 'population']\n",
    "\n",
    "# plot the boxplots over two rows\n",
    "fig, axs = plt.subplots(nrows=2, ncols=2, figsize=(15, 10))\n",
    "for i, var in enumerate(continuous_vars):\n",
    "    ax = axs[i//2, i%2]\n",
    "    ax.boxplot(water_pump_data[var])\n",
    "    ax.set_title(var)\n",
    "plt.tight_layout()\n",
    "plt.show()"
   ],
   "metadata": {
    "collapsed": false,
    "pycharm": {
     "name": "#%%\n"
    }
   }
  },
  {
   "cell_type": "markdown",
   "source": [
    "### Strategies\n",
    "\n",
    "1. Remove outlier (if it's data entry error or data processing error, and you have a lot of data)\n",
    "2. Discuss with domain expert \n",
    "3. Replace outlier with mean\n",
    "4. Replace outlier with median\n",
    "5. Dependent on the size of dataset, treat outliers separately during model fitting and build a different model to fit the outliers (but time consuming)\n",
    "6. Leave as is. Don't drop an outlier if the results are critical or when there are a lot of outliers. "
   ],
   "metadata": {
    "collapsed": false,
    "pycharm": {
     "name": "#%% md\n"
    }
   }
  },
  {
   "cell_type": "markdown",
   "source": [
    "I will go for strategy 6, as there are a lot of outliers I don't want to drop them. I also plan to go for a tree-based approach that are quite robust to outliers."
   ],
   "metadata": {
    "collapsed": false,
    "pycharm": {
     "name": "#%% md\n"
    }
   }
  },
  {
   "cell_type": "markdown",
   "source": [
    "# 4. Normality, skewness and kurtosis"
   ],
   "metadata": {
    "collapsed": false,
    "pycharm": {
     "name": "#%% md\n"
    }
   }
  },
  {
   "cell_type": "markdown",
   "source": [
    "Most of the parametric machine learning models like regression based methods assume that the data is normally distributed. If this assumption fails the model fails to give accurate predictions.\n",
    "\n",
    "\n",
    "- skewness: measures symmetry or asymmetry of data distribution. Data can be positive-skewed (data-pushed towards the right side) or negative-skewed (data-pushed towards the left side).\n",
    "- kurtosis: measures whether data is heavy-tailed or light-tailed in a normal distribution. \n",
    "\n"
   ],
   "metadata": {
    "collapsed": false,
    "pycharm": {
     "name": "#%% md\n"
    }
   }
  },
  {
   "cell_type": "markdown",
   "source": [
    "### Strategies\n",
    "\n",
    "1. Square root transformation.\n",
    "2. Cube root transformation.\n",
    "3. Log transformations `np.log1p`\n",
    "4. Box-cox transformations."
   ],
   "metadata": {
    "collapsed": false,
    "pycharm": {
     "name": "#%% md\n"
    }
   }
  },
  {
   "cell_type": "markdown",
   "source": [
    "As I plan to use trees-based approach, algorithms based on decision trees are completely insensitive to the specific values of predictors, they react only to their order. So non-normality of the features is not an issue.\n",
    "\n"
   ],
   "metadata": {
    "collapsed": false,
    "pycharm": {
     "name": "#%% md\n"
    }
   }
  },
  {
   "cell_type": "code",
   "execution_count": null,
   "outputs": [],
   "source": [
    "# numeric_feats = ['amount_tsh', 'gps_height', 'num_private', 'population']\n",
    "\n",
    "# skewed_feats = water_pump_data[numeric_feats].apply(lambda x: skew(x)).sort_values(ascending=False)\n",
    "# high_skew = skewed_feats[abs(skewed_feats) > 0.5]\n",
    "# high_skew\n",
    "\n",
    "# for feature in high_skew.index:\n",
    "#     water_pump_data[f\"{feature}_new\"] = np.log1p(np.abs(water_pump_data[feature]))"
   ],
   "metadata": {
    "collapsed": false,
    "pycharm": {
     "name": "#%%\n"
    }
   }
  },
  {
   "cell_type": "markdown",
   "source": [
    "# 5. Multicollinearity\n",
    "\n",
    "Colinearity is when two or more variables are a linear combination of one another. If there is perfect colinearity, then a variable can be completely explained as a linear combination of other variables. \n",
    "\n",
    "Multicollinearity is mostly an issue for multiple linear regression models. There, it can cause a variety of issues, including numerical instability, inflation of coefficient standard errors, overfitting, and the inability to accurately isolate and understand the effects of individual features.\n"
   ],
   "metadata": {
    "collapsed": false,
    "pycharm": {
     "name": "#%% md\n"
    }
   }
  },
  {
   "cell_type": "markdown",
   "source": [
    "### Strategies\n",
    "\n",
    "Testing for multicollinearity\n",
    "1. Correlation matrix\n",
    "2. The Variance Inflation Factor. A VIF between 1 to 5 indicates low to moderate correlation, a VIF of over 5 may be a problem, and a VIF of over 10 is almost definitely a problem.\n",
    "3. Lasso regression\n",
    "\n",
    "Dealing with multicollinearity\n",
    "1. Drop a variable\n",
    "2. Combine or transform variables\n",
    "3. Keep predictors in the model\n",
    "4. Do nothing "
   ],
   "metadata": {
    "collapsed": false,
    "pycharm": {
     "name": "#%% md\n"
    }
   }
  },
  {
   "cell_type": "markdown",
   "source": [
    "For nonparametric models such as decision trees, overfitting can occur if the level of correlation between features in the training set does not generalize to unseen data. Tree ensembles can deal better with this, especially when feature bagging (independent random samples of feature subsets used to build each tree) is employed, such as Random Forests and most modern Gradient Boosting implementations. \n",
    "\n",
    "It is in estimating feature importance when multicollinearity is an issue for trees based methods. The variable importance of a feature is increased whenever the model splits on the node. When two features are collinear, the variable importance of the features becomes diluted. \n",
    "\n",
    "Finally, it may possibly lead to some suboptimal, possibly redundant, splitting decisions depending on the learning algorithm\n"
   ],
   "metadata": {
    "collapsed": false,
    "pycharm": {
     "name": "#%% md\n"
    }
   }
  },
  {
   "cell_type": "markdown",
   "source": [
    "As some columns are duplicate of others and for time efficiency of building the model, I will drop columns with duplicate data and columns with high number of categories later."
   ],
   "metadata": {
    "collapsed": false,
    "pycharm": {
     "name": "#%% md\n"
    }
   }
  },
  {
   "cell_type": "code",
   "execution_count": null,
   "outputs": [],
   "source": [
    "\n",
    "# # Fill diagonal and upper half with NaNs\n",
    "# mask = np.zeros_like(water_pump_data_corr, dtype=bool)\n",
    "# mask[np.triu_indices_from(mask)] = True\n",
    "# water_pump_data_corr[mask] = np.nan\n",
    "# (water_pump_data_corr\n",
    "#  .style\n",
    "#  .background_gradient(cmap='coolwarm', axis=None, vmin=-1, vmax=1)\n",
    "#  .highlight_null(color='#f1f1f1')  # Color NaNs grey\n",
    "#  .format(precision=2))\n",
    "\n",
    "# plt.show()"
   ],
   "metadata": {
    "collapsed": false,
    "pycharm": {
     "name": "#%%\n"
    }
   }
  },
  {
   "cell_type": "code",
   "execution_count": null,
   "outputs": [],
   "source": [
    "water_pump_data_corr = water_pump_data.corr()\n",
    "\n",
    "plt.figure(figsize=(15,10))\n",
    "\n",
    "# create a boolean mask to hide the upper half\n",
    "mask = np.zeros_like(water_pump_data_corr)\n",
    "mask[np.triu_indices_from(mask)] = True\n",
    "\n",
    "# plot the correlation matrix with Seaborn\n",
    "sns.heatmap(water_pump_data_corr, cmap='coolwarm', annot=True, mask=mask)\n",
    "\n",
    "plt.show()"
   ],
   "metadata": {
    "collapsed": false,
    "pycharm": {
     "name": "#%%\n"
    }
   }
  },
  {
   "cell_type": "code",
   "execution_count": null,
   "outputs": [],
   "source": [
    "# Import library for VIF\n",
    "from statsmodels.stats.outliers_influence import variance_inflation_factor\n",
    "\n",
    "def calc_vif(X):\n",
    "\n",
    "    # Calculating VIF\n",
    "    vif = pd.DataFrame()\n",
    "    vif[\"variables\"] = X.columns\n",
    "    vif[\"VIF\"] = [variance_inflation_factor(X.values, i) for i in range(X.shape[1])]\n",
    "\n",
    "    return vif"
   ],
   "metadata": {
    "collapsed": false,
    "pycharm": {
     "name": "#%%\n"
    }
   }
  },
  {
   "cell_type": "code",
   "execution_count": null,
   "outputs": [],
   "source": [
    "X = water_pump_data[cont_cols].iloc[:,:-1]\n",
    "calc_vif(X)"
   ],
   "metadata": {
    "collapsed": false,
    "pycharm": {
     "name": "#%%\n"
    }
   }
  },
  {
   "cell_type": "markdown",
   "source": [
    "# 6. Deal with high-cardinality\n"
   ],
   "metadata": {
    "collapsed": false,
    "pycharm": {
     "name": "#%% md\n"
    }
   }
  },
  {
   "cell_type": "markdown",
   "source": [
    "\n",
    "### Strategies\n",
    "\n",
    "1. Use a aggregation function. Leave instances to a value with high frequence and replace others with a category that is 'other'\n",
    "2. Use binary encoding to reduce dimensionality. \n",
    "3. Use target encoding (may lead to target leakage)\n",
    "4. Use mean/count encoding\n",
    "5. Bin or combine data into groups. This may require domain knowledge. The idea is to reduce the number of unique values by grouping them into sets that make sense. (may impair model performance or explainability)\n"
   ],
   "metadata": {
    "collapsed": false,
    "pycharm": {
     "name": "#%% md\n"
    }
   }
  },
  {
   "cell_type": "code",
   "execution_count": null,
   "outputs": [],
   "source": [
    "def aggregate_categories(column, threshold=50):\n",
    "    \n",
    "    # count the number of occurrences of each unique value in column \n",
    "    value_counts = water_pump_data[column].value_counts()\n",
    "    \n",
    "    # replace values with 'other' that are not in the top threshold categories\n",
    "    if len(value_counts) > threshold:\n",
    "        replace_values = value_counts[threshold:].index\n",
    "        return water_pump_data[column].replace(replace_values, 'other')\n",
    "    else:\n",
    "        return water_pump_data[column]"
   ],
   "metadata": {
    "collapsed": false,
    "pycharm": {
     "name": "#%%\n"
    }
   }
  },
  {
   "cell_type": "code",
   "execution_count": null,
   "outputs": [],
   "source": [
    "# Using strategy 5 for funder and installer\n",
    "water_pump_data['funder'] = aggregate_categories('funder', 30)\n",
    "water_pump_data['installer'] = aggregate_categories('installer', 30) \n"
   ],
   "metadata": {
    "collapsed": false,
    "pycharm": {
     "name": "#%%\n"
    }
   }
  },
  {
   "cell_type": "code",
   "execution_count": null,
   "outputs": [],
   "source": [
    "# create a list to store dataframes\n",
    "result_df = []\n",
    "\n",
    "for col in cat_cols:\n",
    "    unique_values = water_pump_data[col].nunique()\n",
    "    temp_df = pd.DataFrame({'Column': [col], 'Unique Values': [unique_values]})\n",
    "    result_df.append(temp_df)\n",
    "    \n",
    "# concatenate all dataframes together\n",
    "result_df = pd.concat(result_df, ignore_index=True)\n",
    "    \n",
    "# sort result dataframe by number of unique values in descending order\n",
    "result_df = result_df.sort_values('Unique Values', ascending=False)\n",
    "\n",
    "# print result dataframe\n",
    "display(result_df)"
   ],
   "metadata": {
    "collapsed": false,
    "pycharm": {
     "name": "#%%\n"
    }
   }
  },
  {
   "cell_type": "markdown",
   "source": [
    "I also drop columns with extremely high cardinality, everything with more than 2000 categories"
   ],
   "metadata": {
    "collapsed": false,
    "pycharm": {
     "name": "#%% md\n"
    }
   }
  },
  {
   "cell_type": "code",
   "execution_count": null,
   "outputs": [],
   "source": [
    "def find_num_overlapping_cols(col1, col2, col3=None):\n",
    "    \n",
    "    if col3:\n",
    "        print(f\"categories {col1}: {water_pump_data[col1].nunique()}, {col2}: {water_pump_data[col2].nunique()}, {col3}: {water_pump_data[col3].nunique()}\")\n",
    "        num_overlap = len(water_pump_data[[col1, col2]].loc[(water_pump_data[col1] == water_pump_data[col2]) == water_pump_data[col3]])\n",
    "    else:\n",
    "        print(f\"categories {col1}: {water_pump_data[col1].nunique()}, {col2}: {water_pump_data[col2].nunique()}\")\n",
    "        num_overlap = len(water_pump_data[[col1, col2]].loc[(water_pump_data[col1] == water_pump_data[col2])])\n",
    "    print(f\"rows with same value: {num_overlap}\")\n",
    "    print(\"\")\n"
   ],
   "metadata": {
    "collapsed": false,
    "pycharm": {
     "name": "#%%\n"
    }
   }
  },
  {
   "cell_type": "code",
   "execution_count": null,
   "outputs": [],
   "source": [
    "## check for overlapping columns\n",
    "\n",
    "find_num_overlapping_cols('funder', 'installer') # keep funder, since less categories\n",
    "\n",
    "find_num_overlapping_cols('extraction_type', 'extraction_type_class')  \n",
    "\n",
    "find_num_overlapping_cols('extraction_type', 'extraction_type_group') # Keep extraction_type_group, 13 classes\n",
    "find_num_overlapping_cols('extraction_type_class', 'extraction_type_group') # BIG OVERLAP, remove extraction_type since there are so many classes (18)\n",
    "find_num_overlapping_cols('extraction_type', 'extraction_type_class', 'extraction_type_group') # drop extraction_type, and extraction_type_class\n",
    "\n",
    "find_num_overlapping_cols('waterpoint_type', 'waterpoint_type_group') # drop waterpoint_type_group (one more extra class can perhaps be more precise)\n",
    "\n",
    "find_num_overlapping_cols('region', 'region_code') # drop region_code, 21 region vs 27 region codes\n",
    "find_num_overlapping_cols('ward', 'lga') # drop ward\n",
    "find_num_overlapping_cols('ward', 'lga', 'region_code')\n",
    "\n",
    "\n",
    "find_num_overlapping_cols('scheme_name', 'scheme_management') #drop scheme_name, too many categories 2576\n",
    "find_num_overlapping_cols('management', 'scheme_management') # drop scheme_management, overlap with management\n",
    "\n",
    "\n",
    "find_num_overlapping_cols('payment', 'payment_type') # captures the same, drop 'payment'\n",
    "find_num_overlapping_cols('management', 'scheme_management') # drop scheme_management, overlap with management\n",
    "find_num_overlapping_cols('management', 'management_group') # drop management_group, only 5 categories\n",
    "\n",
    "find_num_overlapping_cols('water_quality', 'quality_group') # quality might be important factor\n",
    "find_num_overlapping_cols('basin', 'subvillage') # drop subvillage, too many categories: 19288\n",
    "\n",
    "find_num_overlapping_cols('source_class', 'source') \n",
    "find_num_overlapping_cols('source_type', 'source') \n",
    "find_num_overlapping_cols('source_type', 'source_class') # remove source_type, keep source_class\n",
    "find_num_overlapping_cols('waterpoint_type', 'waterpoint_type_group') # drop water_point_type_group\n"
   ],
   "metadata": {
    "collapsed": false,
    "pycharm": {
     "name": "#%%\n"
    }
   }
  },
  {
   "cell_type": "code",
   "execution_count": null,
   "outputs": [],
   "source": [
    "drop_cols = ['wpt_name', 'subvillage', 'scheme_name', 'ward']\n",
    "water_pump_data.drop(drop_cols, axis=1, inplace=True)\n",
    "display(water_pump_data.head())\n",
    "print(water_pump_data.shape)"
   ],
   "metadata": {
    "collapsed": false,
    "pycharm": {
     "name": "#%%\n"
    }
   }
  },
  {
   "cell_type": "markdown",
   "source": [
    "# 7. Feature Engineering "
   ],
   "metadata": {
    "collapsed": false,
    "pycharm": {
     "name": "#%% md\n"
    }
   }
  },
  {
   "cell_type": "code",
   "execution_count": null,
   "outputs": [],
   "source": [
    "# perhaps the regularity of the inspection can also say something about the\n",
    "water_pump_data['year_recorded'] = water_pump_data.date_recorded.dt.year"
   ],
   "metadata": {
    "collapsed": false,
    "pycharm": {
     "name": "#%%\n"
    }
   }
  },
  {
   "cell_type": "markdown",
   "source": [
    "# 8. Drop columns\n",
    "\n",
    "Drop columns that are not relevant for classification of the pump, those that overlap with others and the original columns which we imputed missing values."
   ],
   "metadata": {
    "collapsed": false,
    "pycharm": {
     "name": "#%% md\n"
    }
   }
  },
  {
   "cell_type": "code",
   "execution_count": null,
   "outputs": [],
   "source": [
    "drop_cols = ['id', 'date_recorded','gps_height', 'population', 'longitude', 'latitude', 'installer', 'extraction_type', 'extraction_type_class', 'waterpoint_type_group', 'region_code', 'scheme_management', 'management_group', 'payment', 'recorded_by']\n",
    "water_pump_data.drop(drop_cols, axis=1, inplace=True)"
   ],
   "metadata": {
    "collapsed": false,
    "pycharm": {
     "name": "#%%\n"
    }
   }
  },
  {
   "cell_type": "code",
   "execution_count": null,
   "outputs": [],
   "source": [
    "replace_column_names={\n",
    "    \"population_new\": \"population\",\n",
    "    \"longitude_new\": \"longitude\",\n",
    "    \"latitude_new\": \"latitude\"\n",
    "}\n",
    "water_pump_data=water_pump_data.rename(columns=replace_column_names)\n",
    "water_pump_data.head()"
   ],
   "metadata": {
    "collapsed": false,
    "pycharm": {
     "name": "#%%\n"
    }
   }
  },
  {
   "cell_type": "code",
   "execution_count": null,
   "outputs": [],
   "source": [
    "# save dataset\n",
    "water_pump_data.to_csv('../data/processed/water_pump_dataset.csv', index=False)"
   ],
   "metadata": {
    "collapsed": false,
    "pycharm": {
     "name": "#%%\n"
    }
   }
  },
  {
   "cell_type": "code",
   "execution_count": null,
   "outputs": [],
   "source": [
    "# save dataset\n",
    "water_pump_data.to_csv('../data/processed/water_pump_dataset.csv', index=False)"
   ],
   "metadata": {
    "collapsed": false,
    "pycharm": {
     "name": "#%%\n"
    }
   }
  },
  {
   "cell_type": "markdown",
   "source": [
    "# 8. Encode dataset"
   ],
   "metadata": {
    "collapsed": false,
    "pycharm": {
     "name": "#%% md\n"
    }
   }
  },
  {
   "cell_type": "code",
   "execution_count": null,
   "outputs": [],
   "source": [
    "# create dummies for all categorical columns\n",
    "cat_cols = water_pump_data.select_dtypes(include=['object']).columns.tolist()\n",
    "cat_cols.remove('status_group')\n",
    "\n",
    "# create dummies\n",
    "water_pump_data = pd.get_dummies(water_pump_data, columns = cat_cols)"
   ],
   "metadata": {
    "collapsed": false,
    "pycharm": {
     "name": "#%%\n"
    }
   }
  },
  {
   "cell_type": "code",
   "execution_count": null,
   "outputs": [],
   "source": [
    "# Map target\n",
    "target_map = {\n",
    "    \"functional\": 0,\n",
    "    \"non functional\": 1,\n",
    "    \"functional needs repair\": 2 \n",
    "}\n",
    "\n",
    "water_pump_data['status_group']=water_pump_data['status_group'].map(target_map)"
   ],
   "metadata": {
    "collapsed": false,
    "pycharm": {
     "name": "#%%\n"
    }
   }
  },
  {
   "cell_type": "code",
   "execution_count": null,
   "outputs": [],
   "source": [
    "water_pump_data.head()"
   ],
   "metadata": {
    "collapsed": false,
    "pycharm": {
     "name": "#%%\n"
    }
   }
  },
  {
   "cell_type": "markdown",
   "source": [
    "# 9. Export dataset "
   ],
   "metadata": {
    "collapsed": false,
    "pycharm": {
     "name": "#%% md\n"
    }
   }
  },
  {
   "cell_type": "code",
   "execution_count": null,
   "outputs": [],
   "source": [
    "# Save \n",
    "water_pump_data.to_csv('../data/processed/water_pump_dataset_encoded.csv', index=False)"
   ],
   "metadata": {
    "collapsed": false,
    "pycharm": {
     "name": "#%%\n"
    }
   }
  },
  {
   "cell_type": "code",
   "execution_count": null,
   "outputs": [],
   "source": [],
   "metadata": {
    "collapsed": false,
    "pycharm": {
     "name": "#%%\n"
    }
   }
  }
 ],
 "metadata": {
  "kernelspec": {
   "display_name": "rws",
   "language": "python",
   "name": "rws"
  },
  "language_info": {
   "codemirror_mode": {
    "name": "ipython",
    "version": 3
   },
   "file_extension": ".py",
   "mimetype": "text/x-python",
   "name": "python",
   "nbconvert_exporter": "python",
   "pygments_lexer": "ipython3",
   "version": "3.10.11"
  }
 },
 "nbformat": 4,
 "nbformat_minor": 5
}